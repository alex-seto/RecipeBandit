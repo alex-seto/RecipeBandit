{
 "cells": [
  {
   "cell_type": "code",
   "execution_count": 1,
   "id": "9f0f762b-d994-498d-b4cc-5cd25fbe09f4",
   "metadata": {},
   "outputs": [],
   "source": [
    "import pandas as pd\n",
    "import numpy as np\n",
    "import matplotlib.pyplot as plt\n",
    "import ast\n",
    "import sklearn.decomposition as sk_decomp"
   ]
  },
  {
   "cell_type": "code",
   "execution_count": 2,
   "id": "6c47ea66-1b07-4b79-9c51-b7b43c02fd3b",
   "metadata": {},
   "outputs": [],
   "source": [
    "user_path = \"/Users/alexseto/Documents/GitHub/RecipeBandit\""
   ]
  },
  {
   "cell_type": "code",
   "execution_count": 3,
   "id": "90d0116b-8800-4c9b-98ee-68002f2720f4",
   "metadata": {},
   "outputs": [],
   "source": [
    "import pandas as pd\n",
    "\n",
    "train_data = pd.read_csv(user_path + '/data/interactions_train.csv')\n",
    "val_data = pd.read_csv(user_path + '/data/interactions_validation.csv')\n",
    "test_data = pd.read_csv(user_path + '/data/interactions_test.csv')\n",
    "\n",
    "NUM_USERS = 25076\n",
    "NUM_RECIPES = 178265\n",
    "\n",
    "def interactions_to_matrix(data):\n",
    "    result = np.zeros([NUM_USERS, NUM_RECIPES])\n",
    "    for index, row in data.iterrows():\n",
    "      result[int(row['u']), int(row['i'])] = float(row['rating'])\n",
    "    return result\n",
    "\n",
    "user_recipes = interactions_to_matrix(train_data)"
   ]
  },
  {
   "cell_type": "code",
   "execution_count": 25,
   "id": "fb1f962f-a680-45ec-85a4-0620de99dd8f",
   "metadata": {},
   "outputs": [],
   "source": [
    "RECIPE_LIMIT = 1000\n",
    "\n",
    "def crop_matrix(user_recipes, RECIPE_LIMIT):\n",
    "    cropped = user_recipes[:, :RECIPE_LIMIT]\n",
    "    nonzero_users = list(np.nonzero(np.sum(cropped, axis=1) > 0.0)[0])\n",
    "    number_nonzero_users = len(nonzero_users)\n",
    "    return cropped[nonzero_users, :]"
   ]
  },
  {
   "cell_type": "code",
   "execution_count": 39,
   "id": "e8cb7513-9aef-40aa-9972-e42ed4a6c100",
   "metadata": {},
   "outputs": [],
   "source": [
    "\n",
    "\n",
    "#TAKEN FROM SOME RANDOM SITE\n",
    "\n",
    "def select_n_components(var_ratio, goal_var: float) -> int:\n",
    "    total_variance = 0.0\n",
    "    \n",
    "    n_components = 0\n",
    "    \n",
    "    for explained_variance in var_ratio:\n",
    "        \n",
    "        total_variance += explained_variance\n",
    "        \n",
    "        n_components += 1\n",
    "        \n",
    "        if total_variance >= goal_var:\n",
    "            break\n",
    "\n",
    "    return n_components\n",
    "\n",
    "def produce_optimal_svd_ncomps(X, goal_var = .8):\n",
    "    tsvd = sk_decomp.TruncatedSVD(n_components=cropped.shape[1]-1)\n",
    "    cropped_tsvd = tsvd.fit(cropped)\n",
    "    tsvd_var_ratios = cropped_tsvd.explained_variance_ratio_\n",
    "    n_components = select_n_components(tsvd_var_ratios, goal_var)\n",
    "    return n_components"
   ]
  },
  {
   "cell_type": "code",
   "execution_count": 68,
   "id": "c3aebe64-f3fb-45b4-9d94-02ae222bf569",
   "metadata": {},
   "outputs": [
    {
     "data": {
      "text/plain": [
       "52"
      ]
     },
     "execution_count": 68,
     "metadata": {},
     "output_type": "execute_result"
    }
   ],
   "source": [
    "n_comps = produce_optimal_svd_ncomps(cropped, .5)\n",
    "n_comps"
   ]
  },
  {
   "cell_type": "code",
   "execution_count": 51,
   "id": "2a14712e-834d-4aaa-97b6-33a8f9bbee72",
   "metadata": {},
   "outputs": [],
   "source": [
    "svd = sk_decomp.TruncatedSVD(n_comps)\n",
    "X_t  = svd.fit_transform(cropped)"
   ]
  },
  {
   "cell_type": "code",
   "execution_count": 52,
   "id": "eabf7e97-5963-403b-b643-ff1df2f2d9fb",
   "metadata": {},
   "outputs": [
    {
     "data": {
      "text/plain": [
       "array([[ 3.98204521e+00, -1.09369583e-03, -5.50069000e-03, ...,\n",
       "         2.28266052e-03,  1.07487132e-03, -4.28037135e-03],\n",
       "       [ 4.97755652e+00, -1.36711978e-03, -6.87586250e-03, ...,\n",
       "         2.85332564e-03,  1.34358915e-03, -5.35046419e-03],\n",
       "       [-1.09369583e-03,  8.65455991e-03,  3.46558230e-03, ...,\n",
       "        -4.70155091e-04,  1.51898259e-04,  1.65356399e-03],\n",
       "       ...,\n",
       "       [ 2.83098832e-05, -1.66203576e-04,  7.27353705e-04, ...,\n",
       "         9.54807429e-04,  3.18911347e-03, -1.35296833e-03],\n",
       "       [ 2.83098832e-05, -1.66203576e-04,  7.27353705e-04, ...,\n",
       "         9.54807429e-04,  3.18911347e-03, -1.35296833e-03],\n",
       "       [ 2.83098832e-05, -1.66203576e-04,  7.27353705e-04, ...,\n",
       "         9.54807429e-04,  3.18911347e-03, -1.35296833e-03]])"
      ]
     },
     "execution_count": 52,
     "metadata": {},
     "output_type": "execute_result"
    }
   ],
   "source": [
    "svd.inverse_transform(X_t)"
   ]
  },
  {
   "cell_type": "code",
   "execution_count": 53,
   "id": "548a0f54-1158-40ac-9d5b-35040ea09dfa",
   "metadata": {},
   "outputs": [
    {
     "data": {
      "text/plain": [
       "514"
      ]
     },
     "execution_count": 53,
     "metadata": {},
     "output_type": "execute_result"
    }
   ],
   "source": [
    "n_comps"
   ]
  },
  {
   "cell_type": "code",
   "execution_count": 55,
   "id": "147c64dc-8c50-4f2f-89ad-3ce9e52bc448",
   "metadata": {},
   "outputs": [],
   "source": [
    "def shrink_dimensions_svd(X, goal_var=.95):\n",
    "    n_comps = produce_optimal_svd_ncomps(X, goal_var)\n",
    "    svd = sk_decomp.TruncatedSVD(n_comps)\n",
    "    X_t  = svd.fit_transform(cropped)\n",
    "    return X_t, svd"
   ]
  },
  {
   "cell_type": "code",
   "execution_count": 56,
   "id": "01241bbc-2d26-4282-80ba-699fe631f3f8",
   "metadata": {},
   "outputs": [],
   "source": [
    "X_t, svd = shrink_dimensions_svd(X, goal_var = .95)"
   ]
  },
  {
   "cell_type": "code",
   "execution_count": 59,
   "id": "52bccd17-af65-457b-835e-bcaa3d0873d4",
   "metadata": {},
   "outputs": [
    {
     "data": {
      "text/plain": [
       "514"
      ]
     },
     "execution_count": 59,
     "metadata": {},
     "output_type": "execute_result"
    }
   ],
   "source": [
    "X_t.shape[1]"
   ]
  },
  {
   "cell_type": "markdown",
   "id": "52487d13-bfd6-4431-8f91-081c8340ce50",
   "metadata": {},
   "source": [
    "ALL FUNCS"
   ]
  },
  {
   "cell_type": "code",
   "execution_count": 60,
   "id": "36b833d3-b539-474c-b701-9482ea7f66d0",
   "metadata": {},
   "outputs": [],
   "source": [
    "NUM_USERS = 25076\n",
    "NUM_RECIPES = 178265\n",
    "\n",
    "def interactions_to_matrix(data):\n",
    "    result = np.zeros([NUM_USERS, NUM_RECIPES])\n",
    "    for index, row in data.iterrows():\n",
    "      result[int(row['u']), int(row['i'])] = float(row['rating'])\n",
    "    return result\n",
    "\n",
    "RECIPE_LIMIT = 1000\n",
    "\n",
    "def crop_matrix(user_recipes, RECIPE_LIMIT):\n",
    "    cropped = user_recipes[:, :RECIPE_LIMIT]\n",
    "    nonzero_users = list(np.nonzero(np.sum(cropped, axis=1) > 0.0)[0])\n",
    "    number_nonzero_users = len(nonzero_users)\n",
    "    return cropped[nonzero_users, :]\n",
    "\n",
    "def select_n_components(var_ratio, goal_var: float) -> int:\n",
    "    total_variance = 0.0\n",
    "    \n",
    "    n_components = 0\n",
    "    \n",
    "    for explained_variance in var_ratio:\n",
    "        \n",
    "        total_variance += explained_variance\n",
    "        \n",
    "        n_components += 1\n",
    "        \n",
    "        if total_variance >= goal_var:\n",
    "            break\n",
    "\n",
    "    return n_components\n",
    "\n",
    "def produce_optimal_svd_ncomps(X, goal_var = .8):\n",
    "    tsvd = sk_decomp.TruncatedSVD(n_components=cropped.shape[1]-1)\n",
    "    cropped_tsvd = tsvd.fit(cropped)\n",
    "    tsvd_var_ratios = cropped_tsvd.explained_variance_ratio_\n",
    "    n_components = select_n_components(tsvd_var_ratios, goal_var)\n",
    "    return n_components\n",
    "\n",
    "def shrink_dimensions_svd(X, goal_var=.95):\n",
    "    n_comps = produce_optimal_svd_ncomps(X, goal_var)\n",
    "    svd = sk_decomp.TruncatedSVD(n_comps)\n",
    "    X_t  = svd.fit_transform(cropped)\n",
    "    return X_t, svd"
   ]
  },
  {
   "cell_type": "code",
   "execution_count": 64,
   "id": "c01a2158-e5f6-476f-ae93-5dba933686a3",
   "metadata": {},
   "outputs": [],
   "source": [
    "from __future__ import absolute_import\n",
    "from __future__ import division\n",
    "from __future__ import print_function\n",
    "\n",
    "import functools\n",
    "import pandas as pd\n",
    "import ast\n",
    "import os\n",
    "from absl import app\n",
    "from absl import flags\n",
    "\n",
    "import tensorflow as tf  # pylint: disable=g-explicit-tensorflow-version-import\n",
    "\n",
    "from tf_agents.bandits.agents import lin_ucb_agent\n",
    "from tf_agents.bandits.agents.examples.v2 import trainer\n",
    "from tf_agents.bandits.environments import environment_utilities\n",
    "from tf_agents.bandits.environments import movielens_per_arm_py_environment\n",
    "from tf_agents.bandits.environments import movielens_py_environment\n",
    "from tf_agents.bandits.metrics import tf_metrics as tf_bandit_metrics\n",
    "from tf_agents.bandits.networks import global_and_arm_feature_network\n",
    "from tf_agents.environments import tf_py_environment\n",
    "\n",
    "\n",
    "import random\n",
    "from typing import Optional, Text\n",
    "import gin\n",
    "import numpy as np\n",
    "\n",
    "from tf_agents.bandits.environments import bandit_py_environment\n",
    "from tf_agents.bandits.environments import dataset_utilities\n",
    "from tf_agents.specs import array_spec\n",
    "from tf_agents.trajectories import time_step as ts\n",
    "\n",
    "import tensorflow as tf  # pylint: disable=g-explicit-tensorflow-version-import\n",
    "from tf_agents.drivers import dynamic_step_driver\n",
    "from tf_agents.eval import metric_utils\n",
    "from tf_agents.metrics import tf_metrics\n",
    "from tf_agents.policies import policy_saver\n",
    "from tf_agents.replay_buffers import tf_uniform_replay_buffer\n",
    "from tf_agents.bandits.specs import utils as bandit_spec_utils\n",
    "\n",
    "import sklearn.decomposition as sk_decomp\n",
    "\n",
    "import pandas as pd\n",
    "\n",
    "train_data = pd.read_csv('../data/interactions_train.csv')\n",
    "val_data = pd.read_csv('../data/interactions_validation.csv')\n",
    "test_data = pd.read_csv('../data/interactions_test.csv')\n",
    "\n",
    "NUM_USERS = 25076\n",
    "NUM_RECIPES = 178265\n",
    "\n",
    "def interactions_to_matrix(data):\n",
    "    result = np.zeros([NUM_USERS, NUM_RECIPES])\n",
    "    for index, row in data.iterrows():\n",
    "      result[int(row['u']), int(row['i'])] = float(row['rating'])\n",
    "    return result\n",
    "\n",
    "user_recipes = interactions_to_matrix(train_data)\n",
    "\n",
    "NUM_USERS = 25076\n",
    "NUM_RECIPES = 178265\n",
    "\n",
    "def interactions_to_matrix(data):\n",
    "    result = np.zeros([NUM_USERS, NUM_RECIPES])\n",
    "    for index, row in data.iterrows():\n",
    "      result[int(row['u']), int(row['i'])] = float(row['rating'])\n",
    "    return result\n",
    "\n",
    "RECIPE_LIMIT = 1000\n",
    "\n",
    "def crop_matrix(user_recipes, RECIPE_LIMIT):\n",
    "    cropped = user_recipes[:, :RECIPE_LIMIT]\n",
    "    nonzero_users = list(np.nonzero(np.sum(cropped, axis=1) > 0.0)[0])\n",
    "    number_nonzero_users = len(nonzero_users)\n",
    "    return cropped[nonzero_users, :]\n",
    "\n",
    "def select_n_components(var_ratio, goal_var: float) -> int:\n",
    "    total_variance = 0.0\n",
    "    \n",
    "    n_components = 0\n",
    "    \n",
    "    for explained_variance in var_ratio:\n",
    "        \n",
    "        total_variance += explained_variance\n",
    "        \n",
    "        n_components += 1\n",
    "        \n",
    "        if total_variance >= goal_var:\n",
    "            break\n",
    "\n",
    "    return n_components\n",
    "\n",
    "def produce_optimal_svd_ncomps(X, goal_var = .8):\n",
    "    tsvd = sk_decomp.TruncatedSVD(n_components=X.shape[1]-1)\n",
    "    cropped_tsvd = tsvd.fit(X)\n",
    "    tsvd_var_ratios = cropped_tsvd.explained_variance_ratio_\n",
    "    n_components = select_n_components(tsvd_var_ratios, goal_var)\n",
    "    return n_components\n",
    "\n",
    "def shrink_dimensions_svd(X, goal_var=.95):\n",
    "    n_comps = produce_optimal_svd_ncomps(X, goal_var)\n",
    "    svd = sk_decomp.TruncatedSVD(n_comps)\n",
    "    X_t  = svd.fit_transform(X)\n",
    "    return X_t, svd, n_comps"
   ]
  },
  {
   "cell_type": "code",
   "execution_count": 65,
   "id": "520516b1-6d3a-4b9e-ab23-4eda42d7157e",
   "metadata": {},
   "outputs": [],
   "source": [
    "class RecipePyEnvironment(bandit_py_environment.BanditPyEnvironment):\n",
    "  \"\"\"Implements the Recipe aBandit environment.\n",
    "  This environment computes a low-rank matrix factorization (using SVD) of the\n",
    "  data matrix A, such that: A ~= U * V.\n",
    "  The reward of recommending item `j` to user `i` is provided as A_{ij}.\n",
    "  \"\"\"\n",
    "\n",
    "  def __init__(self,\n",
    "               user_recipes: np.array,\n",
    "               batch_size: int = 1,\n",
    "               num_recipes: int = 50,\n",
    "               name: str = 'recipe'):\n",
    "    \"\"\"Initializes the MovieLens Bandit environment.\n",
    "    Args:\n",
    "      data_dir: (string) Directory where the data lies (in text form).\n",
    "      rank_k : (int) Which rank to use in the matrix factorization.\n",
    "      batch_size: (int) Number of observations generated per call.\n",
    "      num_recipes: (int) Only the first `num_recipes` movies will be used by the\n",
    "        environment. The rest is cut out from the data.\n",
    "      name: The name of this environment instance.\n",
    "    \"\"\"\n",
    "    self._num_actions = num_recipes\n",
    "\n",
    "    self._data_matrix = crop_matrix(user_recipes, num_recipes)\n",
    "    self._effective_num_users = self._data_matrix.shape[0]\n",
    "    \n",
    "    self._batch_size = batch_size\n",
    "    \n",
    "    self._data_matrix_svd, svd, optimal_rank_k = shrink_dimensions_svd(self._data_matrix, goal_var = .95)\n",
    "    \n",
    "    self._context_dim = optimal_rank_k\n",
    "    \n",
    "    self._approx_ratings_matrix = svd.inverse_transform(self._data_matrix_svd)\n",
    "\n",
    "    self._current_users = np.zeros(batch_size)\n",
    "    self._previous_users = np.zeros(batch_size)\n",
    "####################################################################################################\n",
    "    self._action_spec = array_spec.BoundedArraySpec(\n",
    "        shape=(),\n",
    "        dtype=np.int32,\n",
    "        minimum=0,\n",
    "        maximum=self._num_actions - 1,\n",
    "        name='action')\n",
    "    \n",
    "    observation_spec = array_spec.ArraySpec(\n",
    "        shape=(self._context_dim,), dtype=np.float64, name='observation')\n",
    "\n",
    "    self._time_step_spec = ts.time_step_spec(observation_spec)\n",
    "    \n",
    "    self._observation = np.zeros((self._batch_size, self._context_dim))\n",
    "\n",
    "####################################################################################################   \n",
    "    \n",
    "    self._optimal_action_table = np.argmax(\n",
    "        self._approx_ratings_matrix, axis=1)\n",
    "    self._optimal_reward_table = np.max(\n",
    "        self._approx_ratings_matrix, axis=1)\n",
    "\n",
    "    super(RecipePyEnvironment, self).__init__(\n",
    "        observation_spec, self._action_spec, name=name)\n",
    "\n",
    "  @property\n",
    "  def batch_size(self):\n",
    "    return self._batch_size\n",
    "\n",
    "  @property\n",
    "  def batched(self):\n",
    "    return True\n",
    "\n",
    "  def _observe(self):\n",
    "    \"\"\"Returns the u vectors of a random sample of users.\"\"\"\n",
    "    sampled_users = random.sample(\n",
    "        range(self._effective_num_users), self._batch_size)\n",
    "    self._previous_users = self._current_users\n",
    "    self._current_users = sampled_users\n",
    "    batched_observations = self._data_matrix_svd[sampled_users]\n",
    "    return batched_observations\n",
    "\n",
    "  def _apply_action(self, action):\n",
    "    \"\"\"Computes the reward for the input actions.\"\"\"\n",
    "    rewards = []\n",
    "    for i, j in zip(self._current_users, action):\n",
    "      rewards.append(self._approx_ratings_matrix[i, j])\n",
    "    return np.array(rewards)\n",
    "\n",
    "  def compute_optimal_action(self):\n",
    "    return self._optimal_action_table[self._previous_users]\n",
    "\n",
    "  def compute_optimal_reward(self):\n",
    "    return self._optimal_reward_table[self._previous_users]"
   ]
  },
  {
   "cell_type": "code",
   "execution_count": null,
   "id": "f4aef49e-99f3-454d-9400-ba6452301ec6",
   "metadata": {},
   "outputs": [],
   "source": []
  }
 ],
 "metadata": {
  "kernelspec": {
   "display_name": "Python 3 (ipykernel)",
   "language": "python",
   "name": "python3"
  },
  "language_info": {
   "codemirror_mode": {
    "name": "ipython",
    "version": 3
   },
   "file_extension": ".py",
   "mimetype": "text/x-python",
   "name": "python",
   "nbconvert_exporter": "python",
   "pygments_lexer": "ipython3",
   "version": "3.7.11"
  }
 },
 "nbformat": 4,
 "nbformat_minor": 5
}
