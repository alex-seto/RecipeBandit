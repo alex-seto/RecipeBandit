{
 "cells": [
  {
   "cell_type": "code",
   "execution_count": 3,
   "metadata": {},
   "outputs": [],
   "source": [
    "import pandas as pd\n",
    "import numpy as np\n",
    "import matplotlib.pyplot as plt\n",
    "import ast\n",
    "import sklearn.decomposition as sk_decomp"
   ]
  },
  {
   "cell_type": "markdown",
   "metadata": {},
   "source": [
    "# Users"
   ]
  },
  {
   "cell_type": "code",
   "execution_count": 3,
   "metadata": {},
   "outputs": [],
   "source": [
    "pp_users = pd.read_csv('data/PP_users.csv')\n",
    "pp_users.index = pp_users['u']\n",
    "pp_users['techniques'] = pp_users['techniques'].apply(ast.literal_eval)\n",
    "pp_users['items'] = pp_users['items'].apply(ast.literal_eval)\n",
    "pp_users['ratings'] = pp_users['ratings'].apply(ast.literal_eval)"
   ]
  },
  {
   "cell_type": "code",
   "execution_count": 3,
   "metadata": {},
   "outputs": [
    {
     "data": {
      "text/plain": [
       "<AxesSubplot:>"
      ]
     },
     "execution_count": 3,
     "metadata": {},
     "output_type": "execute_result"
    },
    {
     "data": {
      "image/png": "[encoded data removed]",
      "text/plain": [
       "<Figure size 432x288 with 1 Axes>"
      ]
     },
     "metadata": {
      "needs_background": "light"
     },
     "output_type": "display_data"
    }
   ],
   "source": [
    "pp_users['avg_rating'] = [np.mean(ratings) for ratings in pp_users['ratings']]\n",
    "pp_users['avg_rating'].hist()"
   ]
  },
  {
   "cell_type": "code",
   "execution_count": 3,
   "metadata": {},
   "outputs": [
    {
     "data": {
      "text/plain": [
       "<AxesSubplot:>"
      ]
     },
     "execution_count": 3,
     "metadata": {},
     "output_type": "execute_result"
    },
    {
     "data": {
      "image/png": "[encoded data removed]",
      "text/plain": [
       "<Figure size 432x288 with 2 Axes>"
      ]
     },
     "metadata": {
      "needs_background": "light"
     },
     "output_type": "display_data"
    }
   ],
   "source": [
    "fig, axes = plt.subplots(nrows=1, ncols=2)\n",
    "\n",
    "pp_users['n_items'].hist(bins = 100, ax=axes[0])\n",
    "pp_users[pp_users['n_items'] < 250]['n_items'].hist(bins = 100, ax=axes[1])\n"
   ]
  },
  {
   "cell_type": "markdown",
   "metadata": {},
   "source": [
    "# Extraction for Test Bandit, very unsure how to go about offline training"
   ]
  },
  {
   "cell_type": "code",
   "execution_count": 10,
   "metadata": {},
   "outputs": [],
   "source": [
    "def extract_users(pp_users, lb = 25, ub = 25):\n",
    "    temp_df = pp_users[pp_users.n_ratings >= lb]\n",
    "    temp_df = temp_df[temp_df.n_ratings <= ub]\n",
    "    return temp_df\n",
    "\n",
    "def extract_user_recipe_df(temp_df):\n",
    "    \n",
    "    unique_recipes = np.unique([item for item_list in temp_df['items'] for item in item_list])\n",
    "    num_recipes = len(unique_recipes)\n",
    "    recipe_id_to_new_id = dict(zip(unique_recipes, range(num_recipes)))\n",
    "    user_context_df = temp_df[['u', 'items', 'ratings']]\n",
    "    rating_vectors = []\n",
    "    for i, (index, row) in enumerate(user_context_df.iterrows()):\n",
    "        rating_vectors.append(list(np.zeros(num_recipes)))\n",
    "        for j, item_id in enumerate(row['items']):\n",
    "            rating_vectors[i][recipe_id_to_new_id[item_id]] = row['ratings'][j]\n",
    "    user_context_df['item_ratings'] = rating_vectors\n",
    "    return user_context_df[['u', 'item_ratings']], recipe_id_to_new_id, unique_recipes\n"
   ]
  },
  {
   "cell_type": "code",
   "execution_count": 11,
   "metadata": {},
   "outputs": [],
   "source": [
    "pp_recipes = pd.read_csv('data/PP_recipes.csv')\n",
    "pp_recipes.ingredient_ids = pp_recipes.ingredient_ids.apply(ast.literal_eval)\n",
    "\n",
    "def extract_recipe_ingredient_df(unique_recipes, recipe_mapper, pp_recipes):\n",
    "    \n",
    "\n",
    "    recipes_oi = pp_recipes.set_index('id').iloc[unique_recipes,:]\n",
    "    \n",
    "    recipes_oi['new_id']=[recipe_mapper[id_] for id_ in unique_recipes]\n",
    "    unique_ingredients = np.unique([item for item_list in recipes_oi['ingredient_ids'] for item in item_list])\n",
    "    num_ingredients = len(unique_ingredients)\n",
    "    ingredient_id_to_new_id = dict(zip(unique_ingredients, range(num_ingredients)))\n",
    "    recipe_ingredient_df = recipes_oi[['new_id', 'ingredient_ids']]\n",
    "    \n",
    "    ingredient_vectors = []\n",
    "    for i, row in recipe_ingredient_df.iterrows():\n",
    "        temp = np.zeros(num_ingredients)\n",
    "        for ing_id in row['ingredient_ids']:\n",
    "            temp[ingredient_id_to_new_id[ing_id]] = 1\n",
    "        ingredient_vectors.append(list(temp))\n",
    "    recipe_ingredient_df['ingredients'] = ingredient_vectors\n",
    "    return recipe_ingredient_df"
   ]
  },
  {
   "cell_type": "code",
   "execution_count": 12,
   "metadata": {},
   "outputs": [],
   "source": [
    "def get_test_data(pp_users, pp_recipes):\n",
    "    temp_df = extract_users(pp_users)\n",
    "    user_recipes, recipe_mapper, unique_recipes = extract_user_recipe_df(temp_df)\n",
    "    recipe_ingreds = extract_recipe_ingredient_df(unique_recipes, recipe_mapper, pp_recipes)\n",
    "    return user_recipes, recipe_ingreds"
   ]
  },
  {
   "cell_type": "code",
   "execution_count": 13,
   "metadata": {},
   "outputs": [
    {
     "name": "stderr",
     "output_type": "stream",
     "text": [
      "<ipython-input-10-e1055b734e7a>:17: SettingWithCopyWarning: \n",
      "A value is trying to be set on a copy of a slice from a DataFrame.\n",
      "Try using .loc[row_indexer,col_indexer] = value instead\n",
      "\n",
      "See the caveats in the documentation: https://pandas.pydata.org/pandas-docs/stable/user_guide/indexing.html#returning-a-view-versus-a-copy\n",
      "  user_context_df['item_ratings'] = rating_vectors\n",
      "<ipython-input-11-bb5f49223b20>:21: SettingWithCopyWarning: \n",
      "A value is trying to be set on a copy of a slice from a DataFrame.\n",
      "Try using .loc[row_indexer,col_indexer] = value instead\n",
      "\n",
      "See the caveats in the documentation: https://pandas.pydata.org/pandas-docs/stable/user_guide/indexing.html#returning-a-view-versus-a-copy\n",
      "  recipe_ingredient_df['ingredients'] = ingredient_vectors\n"
     ]
    }
   ],
   "source": [
    "test1, test2 = get_test_data(pp_users, pp_recipes)"
   ]
  },
  {
   "cell_type": "code",
   "execution_count": 14,
   "metadata": {},
   "outputs": [],
   "source": [
    "test1.to_csv('user_recipes.csv')"
   ]
  },
  {
   "cell_type": "code",
   "execution_count": 15,
   "metadata": {},
   "outputs": [],
   "source": [
    "test2.to_csv('recipe_ingreds.csv')"
   ]
  },
  {
   "cell_type": "code",
   "execution_count": 123,
   "metadata": {},
   "outputs": [
    {
     "name": "stderr",
     "output_type": "stream",
     "text": [
      "<ipython-input-123-27e15b99684a>:7: SettingWithCopyWarning: \n",
      "A value is trying to be set on a copy of a slice from a DataFrame.\n",
      "Try using .loc[row_indexer,col_indexer] = value instead\n",
      "\n",
      "See the caveats in the documentation: https://pandas.pydata.org/pandas-docs/stable/user_guide/indexing.html#returning-a-view-versus-a-copy\n",
      "  recipe_ingredient_df['ingredients'] = ingredient_vectors\n"
     ]
    }
   ],
   "source": [
    "]:\n",
    "print('observation spec: ', per_arm_tf_env.observation_spec())\n",
    "print('\\nAn observation: ', per_arm_tf_env.reset().observation)\n",
    "\n",
    "action = tf.zeros(BATCH_SIZE, dtype=tf.int32)\n",
    "time_step = per_arm_tf_env.step(action)\n",
    "print('\\nRewards after taking an action: ', time_step.reward)"
   ]
  },
  {
   "cell_type": "code",
   "execution_count": 124,
   "metadata": {},
   "outputs": [
    {
     "data": {
      "text/html": [
       "<div>\n",
       "<style scoped>\n",
       "    .dataframe tbody tr th:only-of-type {\n",
       "        vertical-align: middle;\n",
       "    }\n",
       "\n",
       "    .dataframe tbody tr th {\n",
       "        vertical-align: top;\n",
       "    }\n",
       "\n",
       "    .dataframe thead th {\n",
       "        text-align: right;\n",
       "    }\n",
       "</style>\n",
       "<table border=\"1\" class=\"dataframe\">\n",
       "  <thead>\n",
       "    <tr style=\"text-align: right;\">\n",
       "      <th></th>\n",
       "      <th>ingredient_ids</th>\n",
       "      <th>ingredients</th>\n",
       "    </tr>\n",
       "    <tr>\n",
       "      <th>id</th>\n",
       "      <th></th>\n",
       "      <th></th>\n",
       "    </tr>\n",
       "  </thead>\n",
       "  <tbody>\n",
       "    <tr>\n",
       "      <th>108065</th>\n",
       "      <td>[63, 5010, 1124, 7229, 1803, 7557, 519, 3815, ...</td>\n",
       "      <td>[0.0, 0.0, 0.0, 0.0, 0.0, 0.0, 0.0, 0.0, 0.0, ...</td>\n",
       "    </tr>\n",
       "    <tr>\n",
       "      <th>285087</th>\n",
       "      <td>[840, 6906, 1910, 2499, 7449, 2683, 1388, 6473]</td>\n",
       "      <td>[0.0, 0.0, 0.0, 0.0, 0.0, 0.0, 0.0, 0.0, 0.0, ...</td>\n",
       "    </tr>\n",
       "    <tr>\n",
       "      <th>324962</th>\n",
       "      <td>[7557, 5010, 1093, 3399, 3203, 7143, 2125, 755...</td>\n",
       "      <td>[0.0, 0.0, 0.0, 0.0, 0.0, 0.0, 0.0, 0.0, 0.0, ...</td>\n",
       "    </tr>\n",
       "    <tr>\n",
       "      <th>116522</th>\n",
       "      <td>[7819, 4284, 3203, 2909, 2879, 840, 4096, 2816]</td>\n",
       "      <td>[0.0, 0.0, 0.0, 0.0, 0.0, 0.0, 0.0, 0.0, 0.0, ...</td>\n",
       "    </tr>\n",
       "    <tr>\n",
       "      <th>180301</th>\n",
       "      <td>[840, 6696, 7049, 5555, 5033]</td>\n",
       "      <td>[0.0, 0.0, 0.0, 0.0, 0.0, 0.0, 0.0, 0.0, 0.0, ...</td>\n",
       "    </tr>\n",
       "    <tr>\n",
       "      <th>...</th>\n",
       "      <td>...</td>\n",
       "      <td>...</td>\n",
       "    </tr>\n",
       "    <tr>\n",
       "      <th>223531</th>\n",
       "      <td>[2633, 5006, 2879, 6270, 5319]</td>\n",
       "      <td>[0.0, 0.0, 0.0, 0.0, 0.0, 0.0, 0.0, 0.0, 0.0, ...</td>\n",
       "    </tr>\n",
       "    <tr>\n",
       "      <th>321698</th>\n",
       "      <td>[5724, 1045, 1871, 2757]</td>\n",
       "      <td>[0.0, 0.0, 0.0, 0.0, 0.0, 0.0, 0.0, 0.0, 0.0, ...</td>\n",
       "    </tr>\n",
       "    <tr>\n",
       "      <th>432844</th>\n",
       "      <td>[5381, 2874, 6906, 1645, 1833, 4253]</td>\n",
       "      <td>[0.0, 0.0, 0.0, 0.0, 0.0, 0.0, 0.0, 0.0, 0.0, ...</td>\n",
       "    </tr>\n",
       "    <tr>\n",
       "      <th>181420</th>\n",
       "      <td>[4717, 536, 2499, 6270, 5319, 4964, 221, 1170,...</td>\n",
       "      <td>[0.0, 0.0, 0.0, 0.0, 0.0, 0.0, 0.0, 0.0, 0.0, ...</td>\n",
       "    </tr>\n",
       "    <tr>\n",
       "      <th>351322</th>\n",
       "      <td>[7655, 2809, 6245, 6185, 2912, 4287, 1527, 3723]</td>\n",
       "      <td>[0.0, 0.0, 0.0, 0.0, 0.0, 0.0, 0.0, 0.0, 0.0, ...</td>\n",
       "    </tr>\n",
       "  </tbody>\n",
       "</table>\n",
       "<p>3428 rows × 2 columns</p>\n",
       "</div>"
      ],
      "text/plain": [
       "                                           ingredient_ids  \\\n",
       "id                                                          \n",
       "108065  [63, 5010, 1124, 7229, 1803, 7557, 519, 3815, ...   \n",
       "285087    [840, 6906, 1910, 2499, 7449, 2683, 1388, 6473]   \n",
       "324962  [7557, 5010, 1093, 3399, 3203, 7143, 2125, 755...   \n",
       "116522    [7819, 4284, 3203, 2909, 2879, 840, 4096, 2816]   \n",
       "180301                      [840, 6696, 7049, 5555, 5033]   \n",
       "...                                                   ...   \n",
       "223531                     [2633, 5006, 2879, 6270, 5319]   \n",
       "321698                           [5724, 1045, 1871, 2757]   \n",
       "432844               [5381, 2874, 6906, 1645, 1833, 4253]   \n",
       "181420  [4717, 536, 2499, 6270, 5319, 4964, 221, 1170,...   \n",
       "351322   [7655, 2809, 6245, 6185, 2912, 4287, 1527, 3723]   \n",
       "\n",
       "                                              ingredients  \n",
       "id                                                         \n",
       "108065  [0.0, 0.0, 0.0, 0.0, 0.0, 0.0, 0.0, 0.0, 0.0, ...  \n",
       "285087  [0.0, 0.0, 0.0, 0.0, 0.0, 0.0, 0.0, 0.0, 0.0, ...  \n",
       "324962  [0.0, 0.0, 0.0, 0.0, 0.0, 0.0, 0.0, 0.0, 0.0, ...  \n",
       "116522  [0.0, 0.0, 0.0, 0.0, 0.0, 0.0, 0.0, 0.0, 0.0, ...  \n",
       "180301  [0.0, 0.0, 0.0, 0.0, 0.0, 0.0, 0.0, 0.0, 0.0, ...  \n",
       "...                                                   ...  \n",
       "223531  [0.0, 0.0, 0.0, 0.0, 0.0, 0.0, 0.0, 0.0, 0.0, ...  \n",
       "321698  [0.0, 0.0, 0.0, 0.0, 0.0, 0.0, 0.0, 0.0, 0.0, ...  \n",
       "432844  [0.0, 0.0, 0.0, 0.0, 0.0, 0.0, 0.0, 0.0, 0.0, ...  \n",
       "181420  [0.0, 0.0, 0.0, 0.0, 0.0, 0.0, 0.0, 0.0, 0.0, ...  \n",
       "351322  [0.0, 0.0, 0.0, 0.0, 0.0, 0.0, 0.0, 0.0, 0.0, ...  \n",
       "\n",
       "[3428 rows x 2 columns]"
      ]
     },
     "execution_count": 124,
     "metadata": {},
     "output_type": "execute_result"
    }
   ],
   "source": [
    "recipe_ingredient_df"
   ]
  },
  {
   "cell_type": "markdown",
   "metadata": {},
   "source": [
    "# Recipes"
   ]
  },
  {
   "cell_type": "code",
   "execution_count": 30,
   "metadata": {},
   "outputs": [
    {
     "data": {
      "text/html": [
       "<div>\n",
       "<style scoped>\n",
       "    .dataframe tbody tr th:only-of-type {\n",
       "        vertical-align: middle;\n",
       "    }\n",
       "\n",
       "    .dataframe tbody tr th {\n",
       "        vertical-align: top;\n",
       "    }\n",
       "\n",
       "    .dataframe thead th {\n",
       "        text-align: right;\n",
       "    }\n",
       "</style>\n",
       "<table border=\"1\" class=\"dataframe\">\n",
       "  <thead>\n",
       "    <tr style=\"text-align: right;\">\n",
       "      <th></th>\n",
       "      <th>name</th>\n",
       "      <th>id</th>\n",
       "      <th>minutes</th>\n",
       "      <th>contributor_id</th>\n",
       "      <th>submitted</th>\n",
       "      <th>tags</th>\n",
       "      <th>nutrition</th>\n",
       "      <th>n_steps</th>\n",
       "      <th>steps</th>\n",
       "      <th>description</th>\n",
       "      <th>ingredients</th>\n",
       "      <th>n_ingredients</th>\n",
       "    </tr>\n",
       "  </thead>\n",
       "  <tbody>\n",
       "    <tr>\n",
       "      <th>0</th>\n",
       "      <td>arriba   baked winter squash mexican style</td>\n",
       "      <td>137739</td>\n",
       "      <td>55</td>\n",
       "      <td>47892</td>\n",
       "      <td>2005-09-16</td>\n",
       "      <td>[60-minutes-or-less, time-to-make, course, mai...</td>\n",
       "      <td>[51.5, 0.0, 13.0, 0.0, 2.0, 0.0, 4.0]</td>\n",
       "      <td>11</td>\n",
       "      <td>[make a choice and proceed with recipe, depend...</td>\n",
       "      <td>autumn is my favorite time of year to cook! th...</td>\n",
       "      <td>[winter squash, mexican seasoning, mixed spice...</td>\n",
       "      <td>7</td>\n",
       "    </tr>\n",
       "    <tr>\n",
       "      <th>1</th>\n",
       "      <td>a bit different  breakfast pizza</td>\n",
       "      <td>31490</td>\n",
       "      <td>30</td>\n",
       "      <td>26278</td>\n",
       "      <td>2002-06-17</td>\n",
       "      <td>[30-minutes-or-less, time-to-make, course, mai...</td>\n",
       "      <td>[173.4, 18.0, 0.0, 17.0, 22.0, 35.0, 1.0]</td>\n",
       "      <td>9</td>\n",
       "      <td>[preheat oven to 425 degrees f, press dough in...</td>\n",
       "      <td>this recipe calls for the crust to be prebaked...</td>\n",
       "      <td>[prepared pizza crust, sausage patty, eggs, mi...</td>\n",
       "      <td>6</td>\n",
       "    </tr>\n",
       "    <tr>\n",
       "      <th>2</th>\n",
       "      <td>all in the kitchen  chili</td>\n",
       "      <td>112140</td>\n",
       "      <td>130</td>\n",
       "      <td>196586</td>\n",
       "      <td>2005-02-25</td>\n",
       "      <td>[time-to-make, course, preparation, main-dish,...</td>\n",
       "      <td>[269.8, 22.0, 32.0, 48.0, 39.0, 27.0, 5.0]</td>\n",
       "      <td>6</td>\n",
       "      <td>[brown ground beef in large pot, add chopped o...</td>\n",
       "      <td>this modified version of 'mom's' chili was a h...</td>\n",
       "      <td>[ground beef, yellow onions, diced tomatoes, t...</td>\n",
       "      <td>13</td>\n",
       "    </tr>\n",
       "    <tr>\n",
       "      <th>3</th>\n",
       "      <td>alouette  potatoes</td>\n",
       "      <td>59389</td>\n",
       "      <td>45</td>\n",
       "      <td>68585</td>\n",
       "      <td>2003-04-14</td>\n",
       "      <td>[60-minutes-or-less, time-to-make, course, mai...</td>\n",
       "      <td>[368.1, 17.0, 10.0, 2.0, 14.0, 8.0, 20.0]</td>\n",
       "      <td>11</td>\n",
       "      <td>[place potatoes in a large pot of lightly salt...</td>\n",
       "      <td>this is a super easy, great tasting, make ahea...</td>\n",
       "      <td>[spreadable cheese with garlic and herbs, new ...</td>\n",
       "      <td>11</td>\n",
       "    </tr>\n",
       "    <tr>\n",
       "      <th>4</th>\n",
       "      <td>amish  tomato ketchup  for canning</td>\n",
       "      <td>44061</td>\n",
       "      <td>190</td>\n",
       "      <td>41706</td>\n",
       "      <td>2002-10-25</td>\n",
       "      <td>[weeknight, time-to-make, course, main-ingredi...</td>\n",
       "      <td>[352.9, 1.0, 337.0, 23.0, 3.0, 0.0, 28.0]</td>\n",
       "      <td>5</td>\n",
       "      <td>[mix all ingredients&amp; boil for 2 1 / 2 hours ,...</td>\n",
       "      <td>my dh's amish mother raised him on this recipe...</td>\n",
       "      <td>[tomato juice, apple cider vinegar, sugar, sal...</td>\n",
       "      <td>8</td>\n",
       "    </tr>\n",
       "    <tr>\n",
       "      <th>...</th>\n",
       "      <td>...</td>\n",
       "      <td>...</td>\n",
       "      <td>...</td>\n",
       "      <td>...</td>\n",
       "      <td>...</td>\n",
       "      <td>...</td>\n",
       "      <td>...</td>\n",
       "      <td>...</td>\n",
       "      <td>...</td>\n",
       "      <td>...</td>\n",
       "      <td>...</td>\n",
       "      <td>...</td>\n",
       "    </tr>\n",
       "    <tr>\n",
       "      <th>231632</th>\n",
       "      <td>zydeco soup</td>\n",
       "      <td>486161</td>\n",
       "      <td>60</td>\n",
       "      <td>227978</td>\n",
       "      <td>2012-08-29</td>\n",
       "      <td>[ham, 60-minutes-or-less, time-to-make, course...</td>\n",
       "      <td>[415.2, 26.0, 34.0, 26.0, 44.0, 21.0, 15.0]</td>\n",
       "      <td>7</td>\n",
       "      <td>[heat oil in a 4-quart dutch oven, add celery ...</td>\n",
       "      <td>this is a delicious soup that i originally fou...</td>\n",
       "      <td>[celery, onion, green sweet pepper, garlic clo...</td>\n",
       "      <td>22</td>\n",
       "    </tr>\n",
       "    <tr>\n",
       "      <th>231633</th>\n",
       "      <td>zydeco spice mix</td>\n",
       "      <td>493372</td>\n",
       "      <td>5</td>\n",
       "      <td>1500678</td>\n",
       "      <td>2013-01-09</td>\n",
       "      <td>[15-minutes-or-less, time-to-make, course, pre...</td>\n",
       "      <td>[14.8, 0.0, 2.0, 58.0, 1.0, 0.0, 1.0]</td>\n",
       "      <td>1</td>\n",
       "      <td>[mix all ingredients together thoroughly]</td>\n",
       "      <td>this spice mix will make your taste buds dance!</td>\n",
       "      <td>[paprika, salt, garlic powder, onion powder, d...</td>\n",
       "      <td>13</td>\n",
       "    </tr>\n",
       "    <tr>\n",
       "      <th>231634</th>\n",
       "      <td>zydeco ya ya deviled eggs</td>\n",
       "      <td>308080</td>\n",
       "      <td>40</td>\n",
       "      <td>37779</td>\n",
       "      <td>2008-06-07</td>\n",
       "      <td>[60-minutes-or-less, time-to-make, course, mai...</td>\n",
       "      <td>[59.2, 6.0, 2.0, 3.0, 6.0, 5.0, 0.0]</td>\n",
       "      <td>7</td>\n",
       "      <td>[in a bowl , combine the mashed yolks and mayo...</td>\n",
       "      <td>deviled eggs, cajun-style</td>\n",
       "      <td>[hard-cooked eggs, mayonnaise, dijon mustard, ...</td>\n",
       "      <td>8</td>\n",
       "    </tr>\n",
       "    <tr>\n",
       "      <th>231635</th>\n",
       "      <td>cookies by design   cookies on a stick</td>\n",
       "      <td>298512</td>\n",
       "      <td>29</td>\n",
       "      <td>506822</td>\n",
       "      <td>2008-04-15</td>\n",
       "      <td>[30-minutes-or-less, time-to-make, course, pre...</td>\n",
       "      <td>[188.0, 11.0, 57.0, 11.0, 7.0, 21.0, 9.0]</td>\n",
       "      <td>9</td>\n",
       "      <td>[place melted butter in a large mixing bowl an...</td>\n",
       "      <td>i've heard of the 'cookies by design' company,...</td>\n",
       "      <td>[butter, eagle brand condensed milk, light bro...</td>\n",
       "      <td>10</td>\n",
       "    </tr>\n",
       "    <tr>\n",
       "      <th>231636</th>\n",
       "      <td>cookies by design   sugar shortbread cookies</td>\n",
       "      <td>298509</td>\n",
       "      <td>20</td>\n",
       "      <td>506822</td>\n",
       "      <td>2008-04-15</td>\n",
       "      <td>[30-minutes-or-less, time-to-make, course, pre...</td>\n",
       "      <td>[174.9, 14.0, 33.0, 4.0, 4.0, 11.0, 6.0]</td>\n",
       "      <td>5</td>\n",
       "      <td>[whip sugar and shortening in a large bowl , a...</td>\n",
       "      <td>i've heard of the 'cookies by design' company,...</td>\n",
       "      <td>[granulated sugar, shortening, eggs, flour, cr...</td>\n",
       "      <td>7</td>\n",
       "    </tr>\n",
       "  </tbody>\n",
       "</table>\n",
       "<p>231637 rows × 12 columns</p>\n",
       "</div>"
      ],
      "text/plain": [
       "                                                name      id  minutes  \\\n",
       "0         arriba   baked winter squash mexican style  137739       55   \n",
       "1                   a bit different  breakfast pizza   31490       30   \n",
       "2                          all in the kitchen  chili  112140      130   \n",
       "3                                 alouette  potatoes   59389       45   \n",
       "4                 amish  tomato ketchup  for canning   44061      190   \n",
       "...                                              ...     ...      ...   \n",
       "231632                                   zydeco soup  486161       60   \n",
       "231633                              zydeco spice mix  493372        5   \n",
       "231634                     zydeco ya ya deviled eggs  308080       40   \n",
       "231635        cookies by design   cookies on a stick  298512       29   \n",
       "231636  cookies by design   sugar shortbread cookies  298509       20   \n",
       "\n",
       "        contributor_id   submitted  \\\n",
       "0                47892  2005-09-16   \n",
       "1                26278  2002-06-17   \n",
       "2               196586  2005-02-25   \n",
       "3                68585  2003-04-14   \n",
       "4                41706  2002-10-25   \n",
       "...                ...         ...   \n",
       "231632          227978  2012-08-29   \n",
       "231633         1500678  2013-01-09   \n",
       "231634           37779  2008-06-07   \n",
       "231635          506822  2008-04-15   \n",
       "231636          506822  2008-04-15   \n",
       "\n",
       "                                                     tags  \\\n",
       "0       [60-minutes-or-less, time-to-make, course, mai...   \n",
       "1       [30-minutes-or-less, time-to-make, course, mai...   \n",
       "2       [time-to-make, course, preparation, main-dish,...   \n",
       "3       [60-minutes-or-less, time-to-make, course, mai...   \n",
       "4       [weeknight, time-to-make, course, main-ingredi...   \n",
       "...                                                   ...   \n",
       "231632  [ham, 60-minutes-or-less, time-to-make, course...   \n",
       "231633  [15-minutes-or-less, time-to-make, course, pre...   \n",
       "231634  [60-minutes-or-less, time-to-make, course, mai...   \n",
       "231635  [30-minutes-or-less, time-to-make, course, pre...   \n",
       "231636  [30-minutes-or-less, time-to-make, course, pre...   \n",
       "\n",
       "                                          nutrition  n_steps  \\\n",
       "0             [51.5, 0.0, 13.0, 0.0, 2.0, 0.0, 4.0]       11   \n",
       "1         [173.4, 18.0, 0.0, 17.0, 22.0, 35.0, 1.0]        9   \n",
       "2        [269.8, 22.0, 32.0, 48.0, 39.0, 27.0, 5.0]        6   \n",
       "3         [368.1, 17.0, 10.0, 2.0, 14.0, 8.0, 20.0]       11   \n",
       "4         [352.9, 1.0, 337.0, 23.0, 3.0, 0.0, 28.0]        5   \n",
       "...                                             ...      ...   \n",
       "231632  [415.2, 26.0, 34.0, 26.0, 44.0, 21.0, 15.0]        7   \n",
       "231633        [14.8, 0.0, 2.0, 58.0, 1.0, 0.0, 1.0]        1   \n",
       "231634         [59.2, 6.0, 2.0, 3.0, 6.0, 5.0, 0.0]        7   \n",
       "231635    [188.0, 11.0, 57.0, 11.0, 7.0, 21.0, 9.0]        9   \n",
       "231636     [174.9, 14.0, 33.0, 4.0, 4.0, 11.0, 6.0]        5   \n",
       "\n",
       "                                                    steps  \\\n",
       "0       [make a choice and proceed with recipe, depend...   \n",
       "1       [preheat oven to 425 degrees f, press dough in...   \n",
       "2       [brown ground beef in large pot, add chopped o...   \n",
       "3       [place potatoes in a large pot of lightly salt...   \n",
       "4       [mix all ingredients& boil for 2 1 / 2 hours ,...   \n",
       "...                                                   ...   \n",
       "231632  [heat oil in a 4-quart dutch oven, add celery ...   \n",
       "231633          [mix all ingredients together thoroughly]   \n",
       "231634  [in a bowl , combine the mashed yolks and mayo...   \n",
       "231635  [place melted butter in a large mixing bowl an...   \n",
       "231636  [whip sugar and shortening in a large bowl , a...   \n",
       "\n",
       "                                              description  \\\n",
       "0       autumn is my favorite time of year to cook! th...   \n",
       "1       this recipe calls for the crust to be prebaked...   \n",
       "2       this modified version of 'mom's' chili was a h...   \n",
       "3       this is a super easy, great tasting, make ahea...   \n",
       "4       my dh's amish mother raised him on this recipe...   \n",
       "...                                                   ...   \n",
       "231632  this is a delicious soup that i originally fou...   \n",
       "231633    this spice mix will make your taste buds dance!   \n",
       "231634                          deviled eggs, cajun-style   \n",
       "231635  i've heard of the 'cookies by design' company,...   \n",
       "231636  i've heard of the 'cookies by design' company,...   \n",
       "\n",
       "                                              ingredients  n_ingredients  \n",
       "0       [winter squash, mexican seasoning, mixed spice...              7  \n",
       "1       [prepared pizza crust, sausage patty, eggs, mi...              6  \n",
       "2       [ground beef, yellow onions, diced tomatoes, t...             13  \n",
       "3       [spreadable cheese with garlic and herbs, new ...             11  \n",
       "4       [tomato juice, apple cider vinegar, sugar, sal...              8  \n",
       "...                                                   ...            ...  \n",
       "231632  [celery, onion, green sweet pepper, garlic clo...             22  \n",
       "231633  [paprika, salt, garlic powder, onion powder, d...             13  \n",
       "231634  [hard-cooked eggs, mayonnaise, dijon mustard, ...              8  \n",
       "231635  [butter, eagle brand condensed milk, light bro...             10  \n",
       "231636  [granulated sugar, shortening, eggs, flour, cr...              7  \n",
       "\n",
       "[231637 rows x 12 columns]"
      ]
     },
     "execution_count": 30,
     "metadata": {},
     "output_type": "execute_result"
    }
   ],
   "source": [
    "raw_recipes = pd.read_csv('data/RAW_recipes.csv')\n",
    "raw_recipes.ingredients = raw_recipes.ingredients.apply(ast.literal_eval)\n",
    "raw_recipes.tags = raw_recipes.tags.apply(ast.literal_eval)\n",
    "raw_recipes.nutrition = raw_recipes.nutrition.apply(ast.literal_eval)\n",
    "raw_recipes.steps = raw_recipes.steps.apply(ast.literal_eval)\n",
    "raw_recipes"
   ]
  },
  {
   "cell_type": "code",
   "execution_count": 31,
   "metadata": {},
   "outputs": [
    {
     "data": {
      "text/plain": [
       "231637"
      ]
     },
     "execution_count": 31,
     "metadata": {},
     "output_type": "execute_result"
    }
   ],
   "source": [
    "len(raw_recipes)"
   ]
  },
  {
   "cell_type": "code",
   "execution_count": 32,
   "metadata": {},
   "outputs": [
    {
     "data": {
      "text/plain": [
       "<AxesSubplot:>"
      ]
     },
     "execution_count": 32,
     "metadata": {},
     "output_type": "execute_result"
    },
    {
     "data": {
      "image/png": "[encoded data removed]",
      "text/plain": [
       "<Figure size 432x288 with 1 Axes>"
      ]
     },
     "metadata": {
      "needs_background": "light"
     },
     "output_type": "display_data"
    }
   ],
   "source": [
    "raw_recipes.n_ingredients.hist(bins=40)"
   ]
  },
  {
   "cell_type": "code",
   "execution_count": 33,
   "metadata": {},
   "outputs": [],
   "source": [
    "ingredient_frequencies = raw_recipes.explode('ingredients').groupby('ingredients').count()['id']"
   ]
  },
  {
   "cell_type": "code",
   "execution_count": 34,
   "metadata": {},
   "outputs": [
    {
     "data": {
      "text/plain": [
       "<AxesSubplot:>"
      ]
     },
     "execution_count": 34,
     "metadata": {},
     "output_type": "execute_result"
    },
    {
     "data": {
      "image/png": "[encoded data removed]",
      "text/plain": [
       "<Figure size 432x288 with 1 Axes>"
      ]
     },
     "metadata": {
      "needs_background": "light"
     },
     "output_type": "display_data"
    }
   ],
   "source": [
    "import numpy as np\n",
    "np.log(ingredient_frequencies).hist(bins = 100)"
   ]
  },
  {
   "cell_type": "code",
   "execution_count": 35,
   "metadata": {},
   "outputs": [
    {
     "data": {
      "text/plain": [
       "<AxesSubplot:>"
      ]
     },
     "execution_count": 35,
     "metadata": {},
     "output_type": "execute_result"
    },
    {
     "data": {
      "image/png": "[encoded data removed]",
      "text/plain": [
       "<Figure size 432x288 with 1 Axes>"
      ]
     },
     "metadata": {
      "needs_background": "light"
     },
     "output_type": "display_data"
    }
   ],
   "source": [
    "ingredient_frequencies[ingredient_frequencies < 1000].hist(bins = 100)"
   ]
  },
  {
   "cell_type": "code",
   "execution_count": 36,
   "metadata": {},
   "outputs": [
    {
     "data": {
      "text/plain": [
       "<BarContainer object of 10 artists>"
      ]
     },
     "execution_count": 36,
     "metadata": {},
     "output_type": "execute_result"
    },
    {
     "data": {
      "image/png": "[encoded data removed]",
      "text/plain": [
       "<Figure size 432x288 with 1 Axes>"
      ]
     },
     "metadata": {
      "needs_background": "light"
     },
     "output_type": "display_data"
    }
   ],
   "source": [
    "top_ingredients = ingredient_frequencies.sort_values().tail(n = 10)\n",
    "plt.bar(x = top_ingredients.index, height = top_ingredients)"
   ]
  },
  {
   "cell_type": "markdown",
   "metadata": {},
   "source": [
    "# User - Ingredient Lists"
   ]
  },
  {
   "cell_type": "code",
   "execution_count": 28,
   "metadata": {},
   "outputs": [
    {
     "data": {
      "text/html": [
       "<div>\n",
       "<style scoped>\n",
       "    .dataframe tbody tr th:only-of-type {\n",
       "        vertical-align: middle;\n",
       "    }\n",
       "\n",
       "    .dataframe tbody tr th {\n",
       "        vertical-align: top;\n",
       "    }\n",
       "\n",
       "    .dataframe thead th {\n",
       "        text-align: right;\n",
       "    }\n",
       "</style>\n",
       "<table border=\"1\" class=\"dataframe\">\n",
       "  <thead>\n",
       "    <tr style=\"text-align: right;\">\n",
       "      <th></th>\n",
       "      <th>name</th>\n",
       "      <th>id</th>\n",
       "      <th>minutes</th>\n",
       "      <th>contributor_id</th>\n",
       "      <th>submitted</th>\n",
       "      <th>tags</th>\n",
       "      <th>nutrition</th>\n",
       "      <th>n_steps</th>\n",
       "      <th>steps</th>\n",
       "      <th>description</th>\n",
       "      <th>ingredients</th>\n",
       "      <th>n_ingredients</th>\n",
       "    </tr>\n",
       "  </thead>\n",
       "  <tbody>\n",
       "    <tr>\n",
       "      <th>231632</th>\n",
       "      <td>zydeco soup</td>\n",
       "      <td>486161</td>\n",
       "      <td>60</td>\n",
       "      <td>227978</td>\n",
       "      <td>2012-08-29</td>\n",
       "      <td>[ham, 60-minutes-or-less, time-to-make, course...</td>\n",
       "      <td>[415.2, 26.0, 34.0, 26.0, 44.0, 21.0, 15.0]</td>\n",
       "      <td>7</td>\n",
       "      <td>[heat oil in a 4-quart dutch oven, add celery ...</td>\n",
       "      <td>this is a delicious soup that i originally fou...</td>\n",
       "      <td>[celery, onion, green sweet pepper, garlic clo...</td>\n",
       "      <td>22</td>\n",
       "    </tr>\n",
       "  </tbody>\n",
       "</table>\n",
       "</div>"
      ],
      "text/plain": [
       "               name      id  minutes  contributor_id   submitted  \\\n",
       "231632  zydeco soup  486161       60          227978  2012-08-29   \n",
       "\n",
       "                                                     tags  \\\n",
       "231632  [ham, 60-minutes-or-less, time-to-make, course...   \n",
       "\n",
       "                                          nutrition  n_steps  \\\n",
       "231632  [415.2, 26.0, 34.0, 26.0, 44.0, 21.0, 15.0]        7   \n",
       "\n",
       "                                                    steps  \\\n",
       "231632  [heat oil in a 4-quart dutch oven, add celery ...   \n",
       "\n",
       "                                              description  \\\n",
       "231632  this is a delicious soup that i originally fou...   \n",
       "\n",
       "                                              ingredients  n_ingredients  \n",
       "231632  [celery, onion, green sweet pepper, garlic clo...             22  "
      ]
     },
     "execution_count": 28,
     "metadata": {},
     "output_type": "execute_result"
    }
   ],
   "source": [
    "raw_recipes[raw_recipes.id == 486161]"
   ]
  },
  {
   "cell_type": "code",
   "execution_count": 12,
   "metadata": {},
   "outputs": [],
   "source": [
    "user_recipes = pp_users.explode('items')[['items', 'u']]\n",
    "\n",
    "user_ingredients = user_recipes.merge(raw_recipes, left_on = 'items', right_on = 'id')[['u', 'ingredients']]"
   ]
  },
  {
   "cell_type": "code",
   "execution_count": 13,
   "metadata": {},
   "outputs": [],
   "source": [
    "user_ingredients = user_ingredients.groupby('u')['ingredients'].apply(list).apply(lambda x: [elem for list_ in x for elem in set(list_)])"
   ]
  },
  {
   "cell_type": "code",
   "execution_count": 15,
   "metadata": {},
   "outputs": [
    {
     "data": {
      "text/plain": [
       "<AxesSubplot:>"
      ]
     },
     "execution_count": 15,
     "metadata": {},
     "output_type": "execute_result"
    },
    {
     "data": {
      "image/png": "[encoded data removed]",
      "text/plain": [
       "<Figure size 432x288 with 1 Axes>"
      ]
     },
     "metadata": {
      "needs_background": "light"
     },
     "output_type": "display_data"
    }
   ],
   "source": [
    "user_ingredient_frequencies = user_ingredients.apply(len)\n",
    "user_ingredient_frequencies[user_ingredient_frequencies < 1000].hist(bins = 1000)"
   ]
  },
  {
   "cell_type": "markdown",
   "metadata": {},
   "source": [
    "# Interactions (reviews)"
   ]
  },
  {
   "cell_type": "code",
   "execution_count": 84,
   "metadata": {},
   "outputs": [
    {
     "data": {
      "text/plain": [
       "\"['winter squash', 'mexican seasoning', 'mixed spice', 'honey', 'butter', 'olive oil', 'salt']\""
      ]
     },
     "execution_count": 84,
     "metadata": {},
     "output_type": "execute_result"
    }
   ],
   "source": [
    "recipes.iloc[0, :]['ingredients']"
   ]
  },
  {
   "cell_type": "code",
   "execution_count": 85,
   "metadata": {},
   "outputs": [
    {
     "data": {
      "text/plain": [
       "[40480, 1943, 6987, 12187, 4423, 23841, 12432, 4530, 40481]"
      ]
     },
     "execution_count": 85,
     "metadata": {},
     "output_type": "execute_result"
    }
   ],
   "source": [
    "temp"
   ]
  },
  {
   "cell_type": "code",
   "execution_count": 46,
   "metadata": {},
   "outputs": [],
   "source": [
    "temp = ast.literal_eval(recipes.iloc[0, :]['name_tokens'])"
   ]
  },
  {
   "cell_type": "code",
   "execution_count": 32,
   "metadata": {},
   "outputs": [],
   "source": [
    "import pickle\n",
    "mapper = pickle.load(open(\"data/ingr_map.pkl\", 'rb'))"
   ]
  },
  {
   "cell_type": "code",
   "execution_count": 38,
   "metadata": {},
   "outputs": [],
   "source": []
  },
  {
   "cell_type": "code",
   "execution_count": 78,
   "metadata": {},
   "outputs": [
    {
     "ename": "ValueError",
     "evalue": "Boolean array expected for the condition, not int16",
     "output_type": "error",
     "traceback": [
      "\u001b[0;31m---------------------------------------------------------------------------\u001b[0m",
      "\u001b[0;31mValueError\u001b[0m                                Traceback (most recent call last)",
      "\u001b[0;32m<ipython-input-78-cec672b2b51d>\u001b[0m in \u001b[0;36m<module>\u001b[0;34m\u001b[0m\n\u001b[0;32m----> 1\u001b[0;31m \u001b[0mmapper\u001b[0m\u001b[0;34m.\u001b[0m\u001b[0mwhere\u001b[0m\u001b[0;34m(\u001b[0m\u001b[0mmapper\u001b[0m\u001b[0;34m.\u001b[0m\u001b[0mid\u001b[0m\u001b[0;34m)\u001b[0m\u001b[0;34m\u001b[0m\u001b[0;34m\u001b[0m\u001b[0m\n\u001b[0m",
      "\u001b[0;32m~/opt/anaconda3/envs/comp135_2020f_env/lib/python3.8/site-packages/pandas/core/generic.py\u001b[0m in \u001b[0;36mwhere\u001b[0;34m(self, cond, other, inplace, axis, level, errors, try_cast)\u001b[0m\n\u001b[1;32m   8993\u001b[0m         \"\"\"\n\u001b[1;32m   8994\u001b[0m         \u001b[0mother\u001b[0m \u001b[0;34m=\u001b[0m \u001b[0mcom\u001b[0m\u001b[0;34m.\u001b[0m\u001b[0mapply_if_callable\u001b[0m\u001b[0;34m(\u001b[0m\u001b[0mother\u001b[0m\u001b[0;34m,\u001b[0m \u001b[0mself\u001b[0m\u001b[0;34m)\u001b[0m\u001b[0;34m\u001b[0m\u001b[0;34m\u001b[0m\u001b[0m\n\u001b[0;32m-> 8995\u001b[0;31m         return self._where(\n\u001b[0m\u001b[1;32m   8996\u001b[0m             \u001b[0mcond\u001b[0m\u001b[0;34m,\u001b[0m \u001b[0mother\u001b[0m\u001b[0;34m,\u001b[0m \u001b[0minplace\u001b[0m\u001b[0;34m,\u001b[0m \u001b[0maxis\u001b[0m\u001b[0;34m,\u001b[0m \u001b[0mlevel\u001b[0m\u001b[0;34m,\u001b[0m \u001b[0merrors\u001b[0m\u001b[0;34m=\u001b[0m\u001b[0merrors\u001b[0m\u001b[0;34m,\u001b[0m \u001b[0mtry_cast\u001b[0m\u001b[0;34m=\u001b[0m\u001b[0mtry_cast\u001b[0m\u001b[0;34m\u001b[0m\u001b[0;34m\u001b[0m\u001b[0m\n\u001b[1;32m   8997\u001b[0m         )\n",
      "\u001b[0;32m~/opt/anaconda3/envs/comp135_2020f_env/lib/python3.8/site-packages/pandas/core/generic.py\u001b[0m in \u001b[0;36m_where\u001b[0;34m(self, cond, other, inplace, axis, level, errors, try_cast)\u001b[0m\n\u001b[1;32m   8755\u001b[0m                 \u001b[0;32mfor\u001b[0m \u001b[0mdt\u001b[0m \u001b[0;32min\u001b[0m \u001b[0mcond\u001b[0m\u001b[0;34m.\u001b[0m\u001b[0mdtypes\u001b[0m\u001b[0;34m:\u001b[0m\u001b[0;34m\u001b[0m\u001b[0;34m\u001b[0m\u001b[0m\n\u001b[1;32m   8756\u001b[0m                     \u001b[0;32mif\u001b[0m \u001b[0;32mnot\u001b[0m \u001b[0mis_bool_dtype\u001b[0m\u001b[0;34m(\u001b[0m\u001b[0mdt\u001b[0m\u001b[0;34m)\u001b[0m\u001b[0;34m:\u001b[0m\u001b[0;34m\u001b[0m\u001b[0;34m\u001b[0m\u001b[0m\n\u001b[0;32m-> 8757\u001b[0;31m                         \u001b[0;32mraise\u001b[0m \u001b[0mValueError\u001b[0m\u001b[0;34m(\u001b[0m\u001b[0mmsg\u001b[0m\u001b[0;34m.\u001b[0m\u001b[0mformat\u001b[0m\u001b[0;34m(\u001b[0m\u001b[0mdtype\u001b[0m\u001b[0;34m=\u001b[0m\u001b[0mdt\u001b[0m\u001b[0;34m)\u001b[0m\u001b[0;34m)\u001b[0m\u001b[0;34m\u001b[0m\u001b[0;34m\u001b[0m\u001b[0m\n\u001b[0m\u001b[1;32m   8758\u001b[0m         \u001b[0;32melse\u001b[0m\u001b[0;34m:\u001b[0m\u001b[0;34m\u001b[0m\u001b[0;34m\u001b[0m\u001b[0m\n\u001b[1;32m   8759\u001b[0m             \u001b[0;31m# GH#21947 we have an empty DataFrame/Series, could be object-dtype\u001b[0m\u001b[0;34m\u001b[0m\u001b[0;34m\u001b[0m\u001b[0;34m\u001b[0m\u001b[0m\n",
      "\u001b[0;31mValueError\u001b[0m: Boolean array expected for the condition, not int16"
     ]
    }
   ],
   "source": [
    "mapper.where(mapper.id)"
   ]
  },
  {
   "cell_type": "code",
   "execution_count": 82,
   "metadata": {},
   "outputs": [
    {
     "data": {
      "text/html": [
       "<div>\n",
       "<style scoped>\n",
       "    .dataframe tbody tr th:only-of-type {\n",
       "        vertical-align: middle;\n",
       "    }\n",
       "\n",
       "    .dataframe tbody tr th {\n",
       "        vertical-align: top;\n",
       "    }\n",
       "\n",
       "    .dataframe thead th {\n",
       "        text-align: right;\n",
       "    }\n",
       "</style>\n",
       "<table border=\"1\" class=\"dataframe\">\n",
       "  <thead>\n",
       "    <tr style=\"text-align: right;\">\n",
       "      <th></th>\n",
       "      <th>raw_ingr</th>\n",
       "      <th>raw_words</th>\n",
       "      <th>processed</th>\n",
       "      <th>len_proc</th>\n",
       "      <th>replaced</th>\n",
       "      <th>count</th>\n",
       "      <th>id</th>\n",
       "    </tr>\n",
       "  </thead>\n",
       "  <tbody>\n",
       "    <tr>\n",
       "      <th>8309</th>\n",
       "      <td>manchego cheese</td>\n",
       "      <td>2</td>\n",
       "      <td>manchego cheese</td>\n",
       "      <td>15</td>\n",
       "      <td>manchego cheese</td>\n",
       "      <td>74</td>\n",
       "      <td>4530</td>\n",
       "    </tr>\n",
       "  </tbody>\n",
       "</table>\n",
       "</div>"
      ],
      "text/plain": [
       "             raw_ingr  raw_words        processed  len_proc         replaced  \\\n",
       "8309  manchego cheese          2  manchego cheese        15  manchego cheese   \n",
       "\n",
       "      count    id  \n",
       "8309     74  4530  "
      ]
     },
     "execution_count": 82,
     "metadata": {},
     "output_type": "execute_result"
    }
   ],
   "source": [
    "mapper[mapper.id == temp[7]]"
   ]
  },
  {
   "cell_type": "code",
   "execution_count": 79,
   "metadata": {},
   "outputs": [
    {
     "data": {
      "text/plain": [
       "[40480, 1943, 6987, 12187, 4423, 23841, 12432, 4530, 40481]"
      ]
     },
     "execution_count": 79,
     "metadata": {},
     "output_type": "execute_result"
    }
   ],
   "source": [
    "temp"
   ]
  },
  {
   "cell_type": "code",
   "execution_count": 87,
   "metadata": {},
   "outputs": [
    {
     "data": {
      "text/html": [
       "<div>\n",
       "<style scoped>\n",
       "    .dataframe tbody tr th:only-of-type {\n",
       "        vertical-align: middle;\n",
       "    }\n",
       "\n",
       "    .dataframe tbody tr th {\n",
       "        vertical-align: top;\n",
       "    }\n",
       "\n",
       "    .dataframe thead th {\n",
       "        text-align: right;\n",
       "    }\n",
       "</style>\n",
       "<table border=\"1\" class=\"dataframe\">\n",
       "  <thead>\n",
       "    <tr style=\"text-align: right;\">\n",
       "      <th></th>\n",
       "      <th>raw_ingr</th>\n",
       "      <th>raw_words</th>\n",
       "      <th>processed</th>\n",
       "      <th>len_proc</th>\n",
       "      <th>replaced</th>\n",
       "      <th>count</th>\n",
       "      <th>id</th>\n",
       "    </tr>\n",
       "  </thead>\n",
       "  <tbody>\n",
       "    <tr>\n",
       "      <th>0</th>\n",
       "      <td>medium heads bibb or red leaf lettuce, washed,...</td>\n",
       "      <td>13</td>\n",
       "      <td>medium heads bibb or red leaf lettuce, washed,...</td>\n",
       "      <td>73</td>\n",
       "      <td>lettuce</td>\n",
       "      <td>4507</td>\n",
       "      <td>4308</td>\n",
       "    </tr>\n",
       "    <tr>\n",
       "      <th>1</th>\n",
       "      <td>mixed baby lettuces and spring greens</td>\n",
       "      <td>6</td>\n",
       "      <td>mixed baby lettuces and spring green</td>\n",
       "      <td>36</td>\n",
       "      <td>lettuce</td>\n",
       "      <td>4507</td>\n",
       "      <td>4308</td>\n",
       "    </tr>\n",
       "    <tr>\n",
       "      <th>2</th>\n",
       "      <td>romaine lettuce leaf</td>\n",
       "      <td>3</td>\n",
       "      <td>romaine lettuce leaf</td>\n",
       "      <td>20</td>\n",
       "      <td>lettuce</td>\n",
       "      <td>4507</td>\n",
       "      <td>4308</td>\n",
       "    </tr>\n",
       "    <tr>\n",
       "      <th>3</th>\n",
       "      <td>iceberg lettuce leaf</td>\n",
       "      <td>3</td>\n",
       "      <td>iceberg lettuce leaf</td>\n",
       "      <td>20</td>\n",
       "      <td>lettuce</td>\n",
       "      <td>4507</td>\n",
       "      <td>4308</td>\n",
       "    </tr>\n",
       "    <tr>\n",
       "      <th>4</th>\n",
       "      <td>red romaine lettuce</td>\n",
       "      <td>3</td>\n",
       "      <td>red romaine lettuce</td>\n",
       "      <td>19</td>\n",
       "      <td>lettuce</td>\n",
       "      <td>4507</td>\n",
       "      <td>4308</td>\n",
       "    </tr>\n",
       "    <tr>\n",
       "      <th>...</th>\n",
       "      <td>...</td>\n",
       "      <td>...</td>\n",
       "      <td>...</td>\n",
       "      <td>...</td>\n",
       "      <td>...</td>\n",
       "      <td>...</td>\n",
       "      <td>...</td>\n",
       "    </tr>\n",
       "    <tr>\n",
       "      <th>11654</th>\n",
       "      <td>soybeans</td>\n",
       "      <td>1</td>\n",
       "      <td>soybean</td>\n",
       "      <td>7</td>\n",
       "      <td>soybean</td>\n",
       "      <td>31</td>\n",
       "      <td>6702</td>\n",
       "    </tr>\n",
       "    <tr>\n",
       "      <th>11655</th>\n",
       "      <td>goose</td>\n",
       "      <td>1</td>\n",
       "      <td>goose</td>\n",
       "      <td>5</td>\n",
       "      <td>goose</td>\n",
       "      <td>8</td>\n",
       "      <td>3318</td>\n",
       "    </tr>\n",
       "    <tr>\n",
       "      <th>11656</th>\n",
       "      <td>ajwain</td>\n",
       "      <td>1</td>\n",
       "      <td>ajwain</td>\n",
       "      <td>6</td>\n",
       "      <td>ajwain</td>\n",
       "      <td>13</td>\n",
       "      <td>47</td>\n",
       "    </tr>\n",
       "    <tr>\n",
       "      <th>11657</th>\n",
       "      <td>brinjals</td>\n",
       "      <td>1</td>\n",
       "      <td>brinjal</td>\n",
       "      <td>7</td>\n",
       "      <td>brinjal</td>\n",
       "      <td>2</td>\n",
       "      <td>750</td>\n",
       "    </tr>\n",
       "    <tr>\n",
       "      <th>11658</th>\n",
       "      <td>khoya</td>\n",
       "      <td>1</td>\n",
       "      <td>khoya</td>\n",
       "      <td>5</td>\n",
       "      <td>khoya</td>\n",
       "      <td>6</td>\n",
       "      <td>4061</td>\n",
       "    </tr>\n",
       "  </tbody>\n",
       "</table>\n",
       "<p>11659 rows × 7 columns</p>\n",
       "</div>"
      ],
      "text/plain": [
       "                                                raw_ingr  raw_words  \\\n",
       "0      medium heads bibb or red leaf lettuce, washed,...         13   \n",
       "1                  mixed baby lettuces and spring greens          6   \n",
       "2                                   romaine lettuce leaf          3   \n",
       "3                                   iceberg lettuce leaf          3   \n",
       "4                                    red romaine lettuce          3   \n",
       "...                                                  ...        ...   \n",
       "11654                                           soybeans          1   \n",
       "11655                                              goose          1   \n",
       "11656                                             ajwain          1   \n",
       "11657                                           brinjals          1   \n",
       "11658                                              khoya          1   \n",
       "\n",
       "                                               processed  len_proc replaced  \\\n",
       "0      medium heads bibb or red leaf lettuce, washed,...        73  lettuce   \n",
       "1                   mixed baby lettuces and spring green        36  lettuce   \n",
       "2                                   romaine lettuce leaf        20  lettuce   \n",
       "3                                   iceberg lettuce leaf        20  lettuce   \n",
       "4                                    red romaine lettuce        19  lettuce   \n",
       "...                                                  ...       ...      ...   \n",
       "11654                                            soybean         7  soybean   \n",
       "11655                                              goose         5    goose   \n",
       "11656                                             ajwain         6   ajwain   \n",
       "11657                                            brinjal         7  brinjal   \n",
       "11658                                              khoya         5    khoya   \n",
       "\n",
       "       count    id  \n",
       "0       4507  4308  \n",
       "1       4507  4308  \n",
       "2       4507  4308  \n",
       "3       4507  4308  \n",
       "4       4507  4308  \n",
       "...      ...   ...  \n",
       "11654     31  6702  \n",
       "11655      8  3318  \n",
       "11656     13    47  \n",
       "11657      2   750  \n",
       "11658      6  4061  \n",
       "\n",
       "[11659 rows x 7 columns]"
      ]
     },
     "execution_count": 87,
     "metadata": {},
     "output_type": "execute_result"
    }
   ],
   "source": [
    "mapper"
   ]
  },
  {
   "cell_type": "code",
   "execution_count": 60,
   "metadata": {},
   "outputs": [
    {
     "data": {
      "text/plain": [
       "40480"
      ]
     },
     "execution_count": 60,
     "metadata": {},
     "output_type": "execute_result"
    }
   ],
   "source": [
    "temp[0]"
   ]
  },
  {
   "cell_type": "code",
   "execution_count": null,
   "metadata": {},
   "outputs": [],
   "source": []
  }
 ],
 "metadata": {
  "kernelspec": {
   "display_name": "Python 3 (ipykernel)",
   "language": "python",
   "name": "python3"
  },
  "language_info": {
   "codemirror_mode": {
    "name": "ipython",
    "version": 3
   },
   "file_extension": ".py",
   "mimetype": "text/x-python",
   "name": "python",
   "nbconvert_exporter": "python",
   "pygments_lexer": "ipython3",
   "version": "3.7.11"
  }
 },
 "nbformat": 4,
 "nbformat_minor": 4
}
